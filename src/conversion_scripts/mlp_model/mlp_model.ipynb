{
 "cells": [
  {
   "cell_type": "code",
   "execution_count": 18,
   "metadata": {},
   "outputs": [],
   "source": [
    "import numpy as np\n",
    "import torch\n",
    "import torch.nn as nn\n",
    "from torch.utils.data import Dataset, DataLoader\n",
    "from torch.optim import Adam\n",
    "import torch.nn.functional as F\n",
    "from torchvision import datasets, transforms\n",
    "import os"
   ]
  },
  {
   "cell_type": "code",
   "execution_count": 2,
   "metadata": {},
   "outputs": [],
   "source": [
    "transform = transforms.Compose([\n",
    "    transforms.ToTensor(),\n",
    "    transforms.Normalize((0.1307,), (0.3081,)),\n",
    "])"
   ]
  },
  {
   "cell_type": "code",
   "execution_count": 3,
   "metadata": {},
   "outputs": [],
   "source": [
    "train_ds = datasets.MNIST(\"./data\", train=True, download=True, transform=transform)\n",
    "test_ds = datasets.MNIST(\"./data\", train=True, download=False, transform=transform)"
   ]
  },
  {
   "cell_type": "code",
   "execution_count": 4,
   "metadata": {},
   "outputs": [],
   "source": [
    "train_loader = DataLoader(train_ds, batch_size=64, shuffle=True)\n",
    "test_loader = DataLoader(test_ds, batch_size=1000, shuffle=False)"
   ]
  },
  {
   "cell_type": "code",
   "execution_count": 12,
   "metadata": {},
   "outputs": [],
   "source": [
    "class MLPModel(nn.Module):\n",
    "    def __init__(self):\n",
    "        super(MLPModel, self).__init__()\n",
    "        self.fc1 = nn.Linear(28 * 28, 128)\n",
    "        self.fc2 = nn.Linear(128, 64)\n",
    "        self.fc3 = nn.Linear(64, 32)\n",
    "        self.fc4 = nn.Linear(32, 10)\n",
    "\n",
    "    def forward(self, x):\n",
    "        x = x.view(-1, 28 * 28)\n",
    "        x = self.fc1(x)\n",
    "        x = F.relu(x)\n",
    "        x = self.fc2(x)\n",
    "        x = F.relu(x)\n",
    "        x = self.fc3(x)\n",
    "        x = F.relu(x)\n",
    "        x = self.fc4(x)\n",
    "        return F.log_softmax(x, dim=1)"
   ]
  },
  {
   "cell_type": "code",
   "execution_count": 13,
   "metadata": {},
   "outputs": [],
   "source": [
    "model = MLPModel()\n",
    "\n",
    "loss_fn = nn.CrossEntropyLoss()\n",
    "optim = Adam(model.parameters())"
   ]
  },
  {
   "cell_type": "code",
   "execution_count": 15,
   "metadata": {},
   "outputs": [],
   "source": [
    "def train(model, device, train_loader, optimizer, epoch):\n",
    "    model.train()\n",
    "    for batch_idx, (data, target) in enumerate(train_loader):\n",
    "        data, target = data.to(device), target.to(device)\n",
    "        optimizer.zero_grad()\n",
    "        output = model(data)\n",
    "        loss = loss_fn(output, target)\n",
    "        loss.backward()\n",
    "        optimizer.step()\n",
    "        if batch_idx % 100 == 0:\n",
    "            print(f'Train Epoch: {epoch} [{batch_idx * len(data)}/{len(train_loader.dataset)}]  Loss: {loss.item():.6f}')"
   ]
  },
  {
   "cell_type": "code",
   "execution_count": 16,
   "metadata": {},
   "outputs": [],
   "source": [
    "def test(model, device, test_loader):\n",
    "    model.eval()\n",
    "    test_loss = 0\n",
    "    correct = 0\n",
    "    with torch.no_grad():\n",
    "        for data, target in test_loader:\n",
    "            data, target = data.to(device), target.to(device)\n",
    "            output = model(data)\n",
    "            test_loss += loss_fn(output, target).item()\n",
    "            pred = output.argmax(dim=1, keepdim=True)\n",
    "            correct += pred.eq(target.view_as(pred)).sum().item()\n",
    "    test_loss /= len(test_loader.dataset)\n",
    "    print(f'Test set: Average loss: {test_loss:.4f}, Accuracy: {correct}/{len(test_loader.dataset)} ({100. * correct / len(test_loader.dataset):.0f}%)')"
   ]
  },
  {
   "cell_type": "code",
   "execution_count": 17,
   "metadata": {},
   "outputs": [
    {
     "name": "stdout",
     "output_type": "stream",
     "text": [
      "Train Epoch: 1 [0/60000]  Loss: 2.336066\n",
      "Train Epoch: 1 [6400/60000]  Loss: 0.486879\n",
      "Train Epoch: 1 [12800/60000]  Loss: 0.398596\n",
      "Train Epoch: 1 [19200/60000]  Loss: 0.296878\n",
      "Train Epoch: 1 [25600/60000]  Loss: 0.171500\n",
      "Train Epoch: 1 [32000/60000]  Loss: 0.119654\n",
      "Train Epoch: 1 [38400/60000]  Loss: 0.139519\n",
      "Train Epoch: 1 [44800/60000]  Loss: 0.166283\n",
      "Train Epoch: 1 [51200/60000]  Loss: 0.180262\n",
      "Train Epoch: 1 [57600/60000]  Loss: 0.161799\n",
      "Test set: Average loss: 0.0001, Accuracy: 57408/60000 (96%)\n",
      "Train Epoch: 2 [0/60000]  Loss: 0.078120\n",
      "Train Epoch: 2 [6400/60000]  Loss: 0.214819\n",
      "Train Epoch: 2 [12800/60000]  Loss: 0.159792\n",
      "Train Epoch: 2 [19200/60000]  Loss: 0.126897\n",
      "Train Epoch: 2 [25600/60000]  Loss: 0.133875\n",
      "Train Epoch: 2 [32000/60000]  Loss: 0.115174\n",
      "Train Epoch: 2 [38400/60000]  Loss: 0.131928\n",
      "Train Epoch: 2 [44800/60000]  Loss: 0.070494\n",
      "Train Epoch: 2 [51200/60000]  Loss: 0.098839\n",
      "Train Epoch: 2 [57600/60000]  Loss: 0.140501\n",
      "Test set: Average loss: 0.0001, Accuracy: 58417/60000 (97%)\n",
      "Train Epoch: 3 [0/60000]  Loss: 0.041985\n",
      "Train Epoch: 3 [6400/60000]  Loss: 0.032707\n",
      "Train Epoch: 3 [12800/60000]  Loss: 0.148113\n",
      "Train Epoch: 3 [19200/60000]  Loss: 0.087953\n",
      "Train Epoch: 3 [25600/60000]  Loss: 0.128860\n",
      "Train Epoch: 3 [32000/60000]  Loss: 0.090342\n",
      "Train Epoch: 3 [38400/60000]  Loss: 0.018738\n",
      "Train Epoch: 3 [44800/60000]  Loss: 0.119847\n",
      "Train Epoch: 3 [51200/60000]  Loss: 0.274228\n",
      "Train Epoch: 3 [57600/60000]  Loss: 0.023669\n",
      "Test set: Average loss: 0.0001, Accuracy: 58669/60000 (98%)\n",
      "Train Epoch: 4 [0/60000]  Loss: 0.079883\n",
      "Train Epoch: 4 [6400/60000]  Loss: 0.044958\n",
      "Train Epoch: 4 [12800/60000]  Loss: 0.155766\n",
      "Train Epoch: 4 [19200/60000]  Loss: 0.082111\n",
      "Train Epoch: 4 [25600/60000]  Loss: 0.049138\n",
      "Train Epoch: 4 [32000/60000]  Loss: 0.092430\n",
      "Train Epoch: 4 [38400/60000]  Loss: 0.132626\n",
      "Train Epoch: 4 [44800/60000]  Loss: 0.018088\n",
      "Train Epoch: 4 [51200/60000]  Loss: 0.007108\n",
      "Train Epoch: 4 [57600/60000]  Loss: 0.091660\n",
      "Test set: Average loss: 0.0001, Accuracy: 59017/60000 (98%)\n",
      "Train Epoch: 5 [0/60000]  Loss: 0.033365\n",
      "Train Epoch: 5 [6400/60000]  Loss: 0.075151\n",
      "Train Epoch: 5 [12800/60000]  Loss: 0.061478\n",
      "Train Epoch: 5 [19200/60000]  Loss: 0.080934\n",
      "Train Epoch: 5 [25600/60000]  Loss: 0.148000\n",
      "Train Epoch: 5 [32000/60000]  Loss: 0.077568\n",
      "Train Epoch: 5 [38400/60000]  Loss: 0.013162\n",
      "Train Epoch: 5 [44800/60000]  Loss: 0.008509\n",
      "Train Epoch: 5 [51200/60000]  Loss: 0.031256\n",
      "Train Epoch: 5 [57600/60000]  Loss: 0.059659\n",
      "Test set: Average loss: 0.0000, Accuracy: 59202/60000 (99%)\n",
      "Train Epoch: 6 [0/60000]  Loss: 0.033945\n",
      "Train Epoch: 6 [6400/60000]  Loss: 0.005856\n",
      "Train Epoch: 6 [12800/60000]  Loss: 0.033779\n",
      "Train Epoch: 6 [19200/60000]  Loss: 0.161501\n",
      "Train Epoch: 6 [25600/60000]  Loss: 0.007674\n",
      "Train Epoch: 6 [32000/60000]  Loss: 0.150771\n",
      "Train Epoch: 6 [38400/60000]  Loss: 0.051620\n",
      "Train Epoch: 6 [44800/60000]  Loss: 0.001998\n",
      "Train Epoch: 6 [51200/60000]  Loss: 0.129267\n",
      "Train Epoch: 6 [57600/60000]  Loss: 0.010457\n",
      "Test set: Average loss: 0.0000, Accuracy: 59340/60000 (99%)\n",
      "Train Epoch: 7 [0/60000]  Loss: 0.046594\n",
      "Train Epoch: 7 [6400/60000]  Loss: 0.040625\n",
      "Train Epoch: 7 [12800/60000]  Loss: 0.015415\n",
      "Train Epoch: 7 [19200/60000]  Loss: 0.003844\n",
      "Train Epoch: 7 [25600/60000]  Loss: 0.015970\n",
      "Train Epoch: 7 [32000/60000]  Loss: 0.035256\n",
      "Train Epoch: 7 [38400/60000]  Loss: 0.023916\n",
      "Train Epoch: 7 [44800/60000]  Loss: 0.071968\n",
      "Train Epoch: 7 [51200/60000]  Loss: 0.063947\n",
      "Train Epoch: 7 [57600/60000]  Loss: 0.002793\n",
      "Test set: Average loss: 0.0000, Accuracy: 59356/60000 (99%)\n",
      "Train Epoch: 8 [0/60000]  Loss: 0.058906\n",
      "Train Epoch: 8 [6400/60000]  Loss: 0.011844\n",
      "Train Epoch: 8 [12800/60000]  Loss: 0.011203\n",
      "Train Epoch: 8 [19200/60000]  Loss: 0.044257\n",
      "Train Epoch: 8 [25600/60000]  Loss: 0.061476\n",
      "Train Epoch: 8 [32000/60000]  Loss: 0.061226\n",
      "Train Epoch: 8 [38400/60000]  Loss: 0.088137\n",
      "Train Epoch: 8 [44800/60000]  Loss: 0.091258\n",
      "Train Epoch: 8 [51200/60000]  Loss: 0.092378\n",
      "Train Epoch: 8 [57600/60000]  Loss: 0.009417\n",
      "Test set: Average loss: 0.0000, Accuracy: 59594/60000 (99%)\n",
      "Train Epoch: 9 [0/60000]  Loss: 0.001484\n",
      "Train Epoch: 9 [6400/60000]  Loss: 0.097648\n",
      "Train Epoch: 9 [12800/60000]  Loss: 0.060590\n",
      "Train Epoch: 9 [19200/60000]  Loss: 0.005853\n",
      "Train Epoch: 9 [25600/60000]  Loss: 0.000652\n",
      "Train Epoch: 9 [32000/60000]  Loss: 0.025083\n",
      "Train Epoch: 9 [38400/60000]  Loss: 0.059968\n",
      "Train Epoch: 9 [44800/60000]  Loss: 0.003054\n",
      "Train Epoch: 9 [51200/60000]  Loss: 0.091771\n",
      "Train Epoch: 9 [57600/60000]  Loss: 0.006697\n",
      "Test set: Average loss: 0.0000, Accuracy: 59558/60000 (99%)\n",
      "Train Epoch: 10 [0/60000]  Loss: 0.035879\n",
      "Train Epoch: 10 [6400/60000]  Loss: 0.005833\n",
      "Train Epoch: 10 [12800/60000]  Loss: 0.016499\n",
      "Train Epoch: 10 [19200/60000]  Loss: 0.029682\n",
      "Train Epoch: 10 [25600/60000]  Loss: 0.000803\n",
      "Train Epoch: 10 [32000/60000]  Loss: 0.098381\n",
      "Train Epoch: 10 [38400/60000]  Loss: 0.015442\n",
      "Train Epoch: 10 [44800/60000]  Loss: 0.032909\n",
      "Train Epoch: 10 [51200/60000]  Loss: 0.022984\n",
      "Train Epoch: 10 [57600/60000]  Loss: 0.005837\n",
      "Test set: Average loss: 0.0000, Accuracy: 59458/60000 (99%)\n"
     ]
    }
   ],
   "source": [
    "device = torch.device('cuda' if torch.cuda.is_available() else 'cpu')\n",
    "model.to(device)\n",
    "\n",
    "for epoch in range(1, 11):\n",
    "    train(model, device, train_loader, optim, epoch)\n",
    "    test(model, device, test_loader)"
   ]
  },
  {
   "cell_type": "code",
   "execution_count": 20,
   "metadata": {},
   "outputs": [],
   "source": [
    "torch.save(model.state_dict(), os.path.join(\"../../weights\", \"mlp_model.pth\"))"
   ]
  },
  {
   "cell_type": "code",
   "execution_count": null,
   "metadata": {},
   "outputs": [],
   "source": []
  }
 ],
 "metadata": {
  "kernelspec": {
   "display_name": "venv",
   "language": "python",
   "name": "python3"
  },
  "language_info": {
   "codemirror_mode": {
    "name": "ipython",
    "version": 3
   },
   "file_extension": ".py",
   "mimetype": "text/x-python",
   "name": "python",
   "nbconvert_exporter": "python",
   "pygments_lexer": "ipython3",
   "version": "3.10.12"
  }
 },
 "nbformat": 4,
 "nbformat_minor": 2
}
